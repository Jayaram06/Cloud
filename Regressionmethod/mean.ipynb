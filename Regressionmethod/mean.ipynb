{
 "cells": [
  {
   "cell_type": "code",
   "execution_count": 14,
   "metadata": {},
   "outputs": [
    {
     "name": "stdout",
     "output_type": "stream",
     "text": [
      "The Average of the column values : \n",
      "['3.85', '120.89', '69.11', '20.54', '79.80', '31.99', '0.47', '33.24', '0.35']\n"
     ]
    }
   ],
   "source": [
    "import pandas as pd\n",
    "import numpy as np\n",
    "data1 = pd.read_csv(\"diabetes.csv\")\n",
    "arr = np.array(data1)\n",
    "res = np.mean(arr, axis=0)\n",
    "ls = []\n",
    "print(\"The Average of the column values : \")\n",
    "for column_mean in res:\n",
    "    decimalValue = decimal.Decimal(column_mean)\n",
    "    roundedNumber = decimalValue.quantize(decimal.Decimal('0.00'))\n",
    "    ls.append(str(roundedNumber))\n",
    "print(ls)\n"
   ]
  },
  {
   "cell_type": "code",
   "execution_count": 17,
   "metadata": {},
   "outputs": [
    {
     "name": "stdout",
     "output_type": "stream",
     "text": [
      "The Average of the column values : \n",
      "['75.50', '5.84', '3.05', '3.76', '1.20']\n"
     ]
    }
   ],
   "source": [
    "data2 = pd.read_csv(\"iris.csv\")\n",
    "numeric_data = data2.select_dtypes(include=np.number)\n",
    "numeric_data = numeric_data.dropna()\n",
    "arr1 = np.array(numeric_data)\n",
    "res1 = np.mean(arr1, axis=0)\n",
    "ls1 = []\n",
    "print(\"The Average of the column values : \")\n",
    "for column_mean in res1:\n",
    "    decimalValue = decimal.Decimal(column_mean)\n",
    "    roundedNumber = decimalValue.quantize(decimal.Decimal('0.00'))\n",
    "    ls1.append(str(roundedNumber))\n",
    "print(ls1)"
   ]
  }
 ],
 "metadata": {
  "kernelspec": {
   "display_name": "Python 3",
   "language": "python",
   "name": "python3"
  },
  "language_info": {
   "codemirror_mode": {
    "name": "ipython",
    "version": 3
   },
   "file_extension": ".py",
   "mimetype": "text/x-python",
   "name": "python",
   "nbconvert_exporter": "python",
   "pygments_lexer": "ipython3",
   "version": "3.8.10"
  }
 },
 "nbformat": 4,
 "nbformat_minor": 2
}
