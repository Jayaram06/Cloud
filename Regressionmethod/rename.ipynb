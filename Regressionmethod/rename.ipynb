{
 "cells": [
  {
   "cell_type": "code",
   "execution_count": 1,
   "metadata": {},
   "outputs": [
    {
     "name": "stdout",
     "output_type": "stream",
     "text": [
      "   Pregnancies  Glucose  BloodPressure  SkinThickness  Insulin  \\\n",
      "0            6      148             72             35        0   \n",
      "1            1       85             66             29        0   \n",
      "2            8      183             64              0        0   \n",
      "3            1       89             66             23       94   \n",
      "4            0      137             40             35      168   \n",
      "\n",
      "   Body Mass Index  DiabetesPedigreeFunction  Age  Outcome  \n",
      "0             33.6                     0.627   50        1  \n",
      "1             26.6                     0.351   31        0  \n",
      "2             23.3                     0.672   32        1  \n",
      "3             28.1                     0.167   21        0  \n",
      "4             43.1                     2.288   33        1  \n"
     ]
    }
   ],
   "source": [
    "import pandas as pd\n",
    "data1 = pd.read_csv(\"diabetes.csv\")\n",
    "# Replace the name of a specific column\n",
    "old_column_name = 'BMI'\n",
    "new_column_name = 'Body Mass Index'\n",
    "data1.rename(columns={old_column_name: new_column_name}, inplace=True)\n",
    "print(data1.head())"
   ]
  }
 ],
 "metadata": {
  "kernelspec": {
   "display_name": "Python 3",
   "language": "python",
   "name": "python3"
  },
  "language_info": {
   "codemirror_mode": {
    "name": "ipython",
    "version": 3
   },
   "file_extension": ".py",
   "mimetype": "text/x-python",
   "name": "python",
   "nbconvert_exporter": "python",
   "pygments_lexer": "ipython3",
   "version": "3.8.10"
  }
 },
 "nbformat": 4,
 "nbformat_minor": 2
}
