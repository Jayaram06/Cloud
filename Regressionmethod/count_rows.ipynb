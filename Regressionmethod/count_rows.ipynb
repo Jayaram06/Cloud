{
 "cells": [
  {
   "cell_type": "code",
   "execution_count": 1,
   "metadata": {},
   "outputs": [
    {
     "name": "stdout",
     "output_type": "stream",
     "text": [
      "No. of rows :  768\n"
     ]
    }
   ],
   "source": [
    "import pandas as pd\n",
    "dp = pd.read_csv(\"diabetes.csv\")\n",
    "new_dp = pd.DataFrame(dp,index=None)\n",
    "rows = len(new_dp.axes[0])\n",
    "print(\"No. of rows : \",rows)"
   ]
  },
  {
   "cell_type": "code",
   "execution_count": 2,
   "metadata": {},
   "outputs": [
    {
     "name": "stdout",
     "output_type": "stream",
     "text": [
      "No. of rows :  152\n"
     ]
    }
   ],
   "source": [
    "di = pd.read_csv(\"iris.csv\")\n",
    "new_di = pd.DataFrame(di,index=None)\n",
    "rows = len(new_di.axes[0])\n",
    "print(\"No. of rows : \",rows)"
   ]
  }
 ],
 "metadata": {
  "kernelspec": {
   "display_name": "Python 3",
   "language": "python",
   "name": "python3"
  },
  "language_info": {
   "codemirror_mode": {
    "name": "ipython",
    "version": 3
   },
   "file_extension": ".py",
   "mimetype": "text/x-python",
   "name": "python",
   "nbconvert_exporter": "python",
   "pygments_lexer": "ipython3",
   "version": "3.8.10"
  }
 },
 "nbformat": 4,
 "nbformat_minor": 2
}
